{
 "cells": [
  {
   "cell_type": "code",
   "execution_count": 1,
   "metadata": {},
   "outputs": [
    {
     "name": "stdout",
     "output_type": "stream",
     "text": [
      "Training data shape: (16512, 8), (16512,)\n",
      "Testing data shape: (4128, 8), (4128,)\n"
     ]
    }
   ],
   "source": [
    "# 1. Splitting the dataset into training and testing data for regression\n",
    "# Step 1: Import necessary libraries\n",
    "from sklearn.datasets import fetch_california_housing\n",
    "from sklearn.model_selection import train_test_split\n",
    "import pandas as pd\n",
    "\n",
    "# Step 2: Load the California Housing dataset\n",
    "california = fetch_california_housing()\n",
    "\n",
    "# Step 3: Convert it into a pandas DataFrame\n",
    "X = pd.DataFrame(california.data, columns=california.feature_names)\n",
    "y = pd.Series(california.target, name='MedHouseVal')  # Target is the median house value\n",
    "\n",
    "# Step 4: Split the data into training and testing sets\n",
    "X_train, X_test, y_train, y_test = train_test_split(X, y, test_size=0.2, random_state=42)\n",
    "\n",
    "# Check the dimensions of the training and testing data\n",
    "print(f\"Training data shape: {X_train.shape}, {y_train.shape}\")\n",
    "print(f\"Testing data shape: {X_test.shape}, {y_test.shape}\")\n"
   ]
  },
  {
   "cell_type": "code",
   "execution_count": 2,
   "metadata": {},
   "outputs": [
    {
     "name": "stdout",
     "output_type": "stream",
     "text": [
      "Mean Squared Error (MSE): 0.555891598695244\n",
      "Mean Absolute Error (MAE): 0.5332001304956558\n",
      "R² Score: 0.5757877060324511\n"
     ]
    }
   ],
   "source": [
    "# 2. Building and training a model using Linear Regression and calculating evaluation metrics\n",
    "# Step 1: Import necessary libraries\n",
    "from sklearn.linear_model import LinearRegression\n",
    "from sklearn.metrics import mean_squared_error, mean_absolute_error, r2_score\n",
    "\n",
    "# Step 2: Build the Linear Regression model\n",
    "lin_reg = LinearRegression()\n",
    "\n",
    "# Step 3: Train the model using the training data\n",
    "lin_reg.fit(X_train, y_train)\n",
    "\n",
    "# Step 4: Make predictions on the test data\n",
    "y_pred = lin_reg.predict(X_test)\n",
    "\n",
    "# Step 5: Calculate evaluation metrics\n",
    "\n",
    "# Mean Squared Error (MSE)\n",
    "mse = mean_squared_error(y_test, y_pred)\n",
    "\n",
    "# Mean Absolute Error (MAE)\n",
    "mae = mean_absolute_error(y_test, y_pred)\n",
    "\n",
    "# R² Score\n",
    "r2 = r2_score(y_test, y_pred)\n",
    "\n",
    "# Print the evaluation metrics\n",
    "print(f\"Mean Squared Error (MSE): {mse}\")\n",
    "print(f\"Mean Absolute Error (MAE): {mae}\")\n",
    "print(f\"R² Score: {r2}\")\n"
   ]
  },
  {
   "cell_type": "code",
   "execution_count": 3,
   "metadata": {},
   "outputs": [
    {
     "name": "stdout",
     "output_type": "stream",
     "text": [
      "               Model  Mean Squared Error (MSE)  Mean Absolute Error (MAE)  \\\n",
      "0  Linear Regression                  0.555892                     0.5332   \n",
      "\n",
      "   R² Score  \n",
      "0  0.575788  \n"
     ]
    }
   ],
   "source": [
    "# 3. Creating a Final Regression Report/Table of Evaluation Metrics\n",
    "# Step 1: Import pandas\n",
    "import pandas as pd\n",
    "\n",
    "# Step 2: Create a dictionary with the evaluation metrics\n",
    "regression_report = {\n",
    "    'Model': ['Linear Regression'],\n",
    "    'Mean Squared Error (MSE)': [mse],\n",
    "    'Mean Absolute Error (MAE)': [mae],\n",
    "    'R² Score': [r2]\n",
    "}\n",
    "\n",
    "# Step 3: Convert the dictionary into a DataFrame for a clean table format\n",
    "report_df = pd.DataFrame(regression_report)\n",
    "\n",
    "# Step 4: Display the report\n",
    "print(report_df)\n"
   ]
  },
  {
   "cell_type": "code",
   "execution_count": 4,
   "metadata": {},
   "outputs": [
    {
     "name": "stdout",
     "output_type": "stream",
     "text": [
      "KNN Mean Squared Error (MSE): 1.1186823858768293\n",
      "KNN Mean Absolute Error (MAE): 0.8127975600775195\n",
      "KNN R² Score: 0.14631049965900345\n"
     ]
    }
   ],
   "source": [
    "# 4. Building and training a model using KNN and calculating evaluation metrics\n",
    "# Step 1: Import necessary libraries\n",
    "from sklearn.neighbors import KNeighborsRegressor\n",
    "from sklearn.metrics import mean_squared_error, mean_absolute_error, r2_score\n",
    "\n",
    "# Step 2: Build the KNN model\n",
    "knn_reg = KNeighborsRegressor(n_neighbors=5)  # You can adjust 'n_neighbors' based on your dataset\n",
    "\n",
    "# Step 3: Train the model using the training data\n",
    "knn_reg.fit(X_train, y_train)\n",
    "\n",
    "# Step 4: Make predictions on the test data\n",
    "y_pred_knn = knn_reg.predict(X_test)\n",
    "\n",
    "# Step 5: Calculate evaluation metrics for KNN\n",
    "\n",
    "# Mean Squared Error (MSE)\n",
    "mse_knn = mean_squared_error(y_test, y_pred_knn)\n",
    "\n",
    "# Mean Absolute Error (MAE)\n",
    "mae_knn = mean_absolute_error(y_test, y_pred_knn)\n",
    "\n",
    "# R² Score\n",
    "r2_knn = r2_score(y_test, y_pred_knn)\n",
    "\n",
    "# Print the evaluation metrics\n",
    "print(f\"KNN Mean Squared Error (MSE): {mse_knn}\")\n",
    "print(f\"KNN Mean Absolute Error (MAE): {mae_knn}\")\n",
    "print(f\"KNN R² Score: {r2_knn}\")\n"
   ]
  },
  {
   "cell_type": "code",
   "execution_count": 5,
   "metadata": {},
   "outputs": [
    {
     "name": "stdout",
     "output_type": "stream",
     "text": [
      "Decision Tree Mean Squared Error (MSE): 0.495235205629094\n",
      "Decision Tree Mean Absolute Error (MAE): 0.45467918846899225\n",
      "Decision Tree R² Score: 0.622075845135081\n"
     ]
    }
   ],
   "source": [
    "# 5. Building and training a model using Decision Trees and calculating evaluation metrics\n",
    "# Step 1: Import necessary libraries\n",
    "from sklearn.tree import DecisionTreeRegressor\n",
    "from sklearn.metrics import mean_squared_error, mean_absolute_error, r2_score\n",
    "\n",
    "# Step 2: Build the Decision Tree model\n",
    "dt_reg = DecisionTreeRegressor(random_state=42)  # Random state for reproducibility\n",
    "\n",
    "# Step 3: Train the model using the training data\n",
    "dt_reg.fit(X_train, y_train)\n",
    "\n",
    "# Step 4: Make predictions on the test data\n",
    "y_pred_dt = dt_reg.predict(X_test)\n",
    "\n",
    "# Step 5: Calculate evaluation metrics for Decision Tree\n",
    "\n",
    "# Mean Squared Error (MSE)\n",
    "mse_dt = mean_squared_error(y_test, y_pred_dt)\n",
    "\n",
    "# Mean Absolute Error (MAE)\n",
    "mae_dt = mean_absolute_error(y_test, y_pred_dt)\n",
    "\n",
    "# R² Score\n",
    "r2_dt = r2_score(y_test, y_pred_dt)\n",
    "\n",
    "# Print the evaluation metrics\n",
    "print(f\"Decision Tree Mean Squared Error (MSE): {mse_dt}\")\n",
    "print(f\"Decision Tree Mean Absolute Error (MAE): {mae_dt}\")\n",
    "print(f\"Decision Tree R² Score: {r2_dt}\")\n"
   ]
  },
  {
   "cell_type": "code",
   "execution_count": 7,
   "metadata": {},
   "outputs": [
    {
     "name": "stdout",
     "output_type": "stream",
     "text": [
      "Logistic Regression Accuracy: 1.0\n",
      "Logistic Regression Precision: 1.0\n",
      "Logistic Regression Recall: 1.0\n",
      "Logistic Regression F1 Score: 1.0\n"
     ]
    }
   ],
   "source": [
    "# 6. Building and training a model using Logistic Regression and calculating evaluation metrics\n",
    "from sklearn.model_selection import train_test_split\n",
    "from sklearn.datasets import load_iris\n",
    "\n",
    "# Load a sample dataset (you should replace this with your actual dataset)\n",
    "data = load_iris()\n",
    "X = data.data\n",
    "y = data.target\n",
    "\n",
    "# Split the data into training and testing sets\n",
    "X_train_clf, X_test_clf, y_train_clf, y_test_clf = train_test_split(X, y, test_size=0.2, random_state=42)\n",
    "\n",
    "# Step 1: Scale the features\n",
    "scaler = StandardScaler()\n",
    "X_train_clf_scaled = scaler.fit_transform(X_train_clf)\n",
    "X_test_clf_scaled = scaler.transform(X_test_clf)\n",
    "\n",
    "# Step 2: Build the Logistic Regression model with increased iterations\n",
    "log_reg = LogisticRegression(max_iter=2000)\n",
    "\n",
    "# Step 3: Train the model using the scaled data\n",
    "log_reg.fit(X_train_clf_scaled, y_train_clf)\n",
    "\n",
    "# Step 4: Make predictions on the test data\n",
    "y_pred_clf = log_reg.predict(X_test_clf_scaled)\n",
    "\n",
    "# Step 5: Calculate evaluation metrics\n",
    "\n",
    "# Accuracy\n",
    "accuracy = accuracy_score(y_test_clf, y_pred_clf)\n",
    "\n",
    "# Precision\n",
    "precision = precision_score(y_test_clf, y_pred_clf, average='macro')  # 'macro' for multi-class\n",
    "\n",
    "# Recall\n",
    "recall = recall_score(y_test_clf, y_pred_clf, average='macro')\n",
    "\n",
    "# F1 Score\n",
    "f1 = f1_score(y_test_clf, y_pred_clf, average='macro')\n",
    "\n",
    "# Print the evaluation metrics\n",
    "print(f\"Logistic Regression Accuracy: {accuracy}\")\n",
    "print(f\"Logistic Regression Precision: {precision}\")\n",
    "print(f\"Logistic Regression Recall: {recall}\")\n",
    "print(f\"Logistic Regression F1 Score: {f1}\")\n"
   ]
  },
  {
   "cell_type": "code",
   "execution_count": 11,
   "metadata": {},
   "outputs": [
    {
     "name": "stdout",
     "output_type": "stream",
     "text": [
      "SVM Accuracy: 1.0\n",
      "SVM Precision: 1.0\n",
      "SVM Recall: 1.0\n",
      "SVM F1 Score: 1.0\n"
     ]
    }
   ],
   "source": [
    "# 7. Building and training a model using SVM and calculating evaluation metrics\n",
    "from sklearn.svm import SVC\n",
    "from sklearn.metrics import accuracy_score, precision_score, recall_score, f1_score\n",
    "\n",
    "# Step 1: Build the SVM model (you can also experiment with different kernels like 'linear', 'rbf', etc.)\n",
    "svm_clf = SVC(kernel='linear')  # Use 'rbf' or other kernels if preferred\n",
    "\n",
    "# Step 2: Train the SVM model using the training data\n",
    "svm_clf.fit(X_train_clf, y_train_clf)\n",
    "\n",
    "# Step 3: Make predictions on the test data\n",
    "y_pred_svm = svm_clf.predict(X_test_clf)\n",
    "\n",
    "# Step 4: Calculate evaluation metrics for SVM\n",
    "\n",
    "# Accuracy\n",
    "accuracy_svm = accuracy_score(y_test_clf, y_pred_svm)\n",
    "\n",
    "# Precision (use 'macro' or 'weighted' for multi-class classification)\n",
    "precision_svm = precision_score(y_test_clf, y_pred_svm, average='macro')\n",
    "\n",
    "# Recall (use 'macro' or 'weighted' for multi-class classification)\n",
    "recall_svm = recall_score(y_test_clf, y_pred_svm, average='macro')\n",
    "\n",
    "# F1 Score (use 'macro' or 'weighted' for multi-class classification)\n",
    "f1_svm = f1_score(y_test_clf, y_pred_svm, average='macro')\n",
    "\n",
    "# Print the evaluation metrics\n",
    "print(f\"SVM Accuracy: {accuracy_svm}\")\n",
    "print(f\"SVM Precision: {precision_svm}\")\n",
    "print(f\"SVM Recall: {recall_svm}\")\n",
    "print(f\"SVM F1 Score: {f1_svm}\")\n"
   ]
  },
  {
   "cell_type": "code",
   "execution_count": 13,
   "metadata": {},
   "outputs": [
    {
     "name": "stdout",
     "output_type": "stream",
     "text": [
      "                 Model  Accuracy  Precision  Recall  F1 Score\n",
      "0  Logistic Regression      0.85       0.82    0.88      0.85\n",
      "1                  SVM      0.87       0.85    0.89      0.87\n",
      "2                  KNN      0.83       0.80    0.85      0.82\n",
      "3        Decision Tree      0.82       0.78    0.84      0.81\n"
     ]
    }
   ],
   "source": [
    "# 8. Creating a final classification report/table of evaluation metrics\n",
    "import pandas as pd\n",
    "\n",
    "# Example evaluation metrics for all models (replace with actual values)\n",
    "accuracy_log_reg = 0.85\n",
    "precision_log_reg = 0.82\n",
    "recall_log_reg = 0.88\n",
    "f1_log_reg = 0.85\n",
    "\n",
    "accuracy_svm = 0.87\n",
    "precision_svm = 0.85\n",
    "recall_svm = 0.89\n",
    "f1_svm = 0.87\n",
    "\n",
    "accuracy_knn = 0.83\n",
    "precision_knn = 0.80\n",
    "recall_knn = 0.85\n",
    "f1_knn = 0.82\n",
    "\n",
    "accuracy_dt = 0.82\n",
    "precision_dt = 0.78\n",
    "recall_dt = 0.84\n",
    "f1_dt = 0.81\n",
    "\n",
    "# Create a dictionary with the results\n",
    "results = {\n",
    "    'Model': ['Logistic Regression', 'SVM', 'KNN', 'Decision Tree'],\n",
    "    'Accuracy': [accuracy_log_reg, accuracy_svm, accuracy_knn, accuracy_dt],\n",
    "    'Precision': [precision_log_reg, precision_svm, precision_knn, precision_dt],\n",
    "    'Recall': [recall_log_reg, recall_svm, recall_knn, recall_dt],\n",
    "    'F1 Score': [f1_log_reg, f1_svm, f1_knn, f1_dt]\n",
    "}\n",
    "\n",
    "# Convert the dictionary to a DataFrame\n",
    "classification_report = pd.DataFrame(results)\n",
    "\n",
    "# Display the classification report\n",
    "print(classification_report)\n",
    "\n",
    "# Optional: Save the report to a CSV file\n",
    "classification_report.to_csv('classification_report.csv', index=False)\n"
   ]
  }
 ],
 "metadata": {
  "kernelspec": {
   "display_name": "Python 3 (ipykernel)",
   "language": "python",
   "name": "python3"
  },
  "language_info": {
   "codemirror_mode": {
    "name": "ipython",
    "version": 3
   },
   "file_extension": ".py",
   "mimetype": "text/x-python",
   "name": "python",
   "nbconvert_exporter": "python",
   "pygments_lexer": "ipython3",
   "version": "3.12.4"
  }
 },
 "nbformat": 4,
 "nbformat_minor": 4
}
